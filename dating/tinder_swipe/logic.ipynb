{
 "nbformat": 4,
 "nbformat_minor": 2,
 "metadata": {
  "language_info": {
   "name": "python",
   "codemirror_mode": {
    "name": "ipython",
    "version": 3
   },
   "version": "3.8.2-final"
  },
  "orig_nbformat": 2,
  "file_extension": ".py",
  "mimetype": "text/x-python",
  "name": "python",
  "npconvert_exporter": "python",
  "pygments_lexer": "ipython3",
  "version": 3,
  "kernelspec": {
   "name": "python38264bitf0ceb5a79d6c453ba42cf1b0e66b42d2",
   "display_name": "Python 3.8.2 64-bit"
  }
 },
 "cells": [
  {
   "cell_type": "code",
   "execution_count": null,
   "metadata": {},
   "outputs": [],
   "source": [
    "# This file is for the sole purpose of training and/or\n",
    "# recrating the model and is not to be used in the production\n",
    "# process because it would reload and recreate all the modules\n",
    "# all the time, hence, reducing performance"
   ]
  },
  {
   "cell_type": "code",
   "execution_count": 74,
   "metadata": {},
   "outputs": [],
   "source": [
    "from PIL import Image\n",
    "from sklearn.linear_model import LinearRegression\n",
    "from sklearn.model_selection import train_test_split\n",
    "from sklearn.metrics import accuracy_score, hamming_loss, r2_score\n",
    "import os\n",
    "import pandas\n",
    "from matplotlib import pyplot, image\n",
    "import numpy"
   ]
  },
  {
   "cell_type": "code",
   "execution_count": 75,
   "metadata": {},
   "outputs": [],
   "source": [
    "current_dir = os.path.dirname(os.path.abspath(__name__))\n",
    "score_file_path = os.path.join(current_dir, 'score_file2.csv')"
   ]
  },
  {
   "cell_type": "code",
   "execution_count": 76,
   "metadata": {},
   "outputs": [],
   "source": [
    "data = pandas.read_csv(score_file_path)\n",
    "columns = ['name', 'score', 'match']\n",
    "df = pandas.DataFrame(data=data, columns=columns)"
   ]
  },
  {
   "cell_type": "code",
   "execution_count": 77,
   "metadata": {},
   "outputs": [
    {
     "data": {
      "text/html": "<div>\n<style scoped>\n    .dataframe tbody tr th:only-of-type {\n        vertical-align: middle;\n    }\n\n    .dataframe tbody tr th {\n        vertical-align: top;\n    }\n\n    .dataframe thead th {\n        text-align: right;\n    }\n</style>\n<table border=\"1\" class=\"dataframe\">\n  <thead>\n    <tr style=\"text-align: right;\">\n      <th></th>\n      <th>name</th>\n      <th>score</th>\n      <th>match</th>\n      <th>path</th>\n    </tr>\n  </thead>\n  <tbody>\n    <tr>\n      <th>0</th>\n      <td>fw1.jpg</td>\n      <td>3</td>\n      <td>1</td>\n      <td>c:\\Users\\Pende\\Documents\\myapps\\bots\\tinder_sw...</td>\n    </tr>\n  </tbody>\n</table>\n</div>",
      "text/plain": "      name  score  match                                               path\n0  fw1.jpg      3      1  c:\\Users\\Pende\\Documents\\myapps\\bots\\tinder_sw..."
     },
     "execution_count": 77,
     "metadata": {},
     "output_type": "execute_result"
    }
   ],
   "source": [
    "# Put the image path in the dataframe\n",
    "def create_path(name):\n",
    "    image_path = os.path.join(current_dir, 'media', 'data', 'valid', name)\n",
    "    return image_path\n",
    "\n",
    "df['path'] = df['name'].apply(create_path)\n",
    "df[:1]"
   ]
  },
  {
   "cell_type": "code",
   "execution_count": 95,
   "metadata": {},
   "outputs": [
    {
     "name": "stdout",
     "output_type": "stream",
     "text": "Initial values: uint8, Min: 0, Max: 255\nAfter normarlization the min value is 0.0 and the max 1.0\nMean 5.954041881750527e-08, Min: -0.4042842984199524, Max: 0.5957157015800476\n"
    }
   ],
   "source": [
    "# Normalize images from range 0-255 to\n",
    "# range 0-1 in order to facilitate the\n",
    "# learning process by the neural network\n",
    "test_image = Image.open(df['path'][1])\n",
    "pixels = numpy.asarray(test_image)\n",
    "# Confirm that the image range is 0-255\n",
    "print(f'Initial values: {pixels.dtype}, Min: {pixels.min()}, Max: {pixels.max()}')\n",
    "\n",
    "# Convert from intergers to floats\n",
    "pixels = pixels.astype('float32')\n",
    "\n",
    "# Normalize pixels to range 0, 1\n",
    "pixels /= 255.0\n",
    "print(f'After normarlization the min value is {pixels.min()} and the max {pixels.max()}')\n",
    "\n",
    "# Once normalized we need to center the pixels\n",
    "# around zero or the mean. This creates a good\n",
    "# distribution around the mean\n",
    "mean = pixels.mean()\n",
    "pixels = pixels - mean\n",
    "# Confirm the centering\n",
    "print(f'Mean {pixels.mean()}, Min: {pixels.min()}, Max: {pixels.max()}')"
   ]
  },
  {
   "cell_type": "code",
   "execution_count": 59,
   "metadata": {},
   "outputs": [
    {
     "data": {
      "text/html": "<div>\n<style scoped>\n    .dataframe tbody tr th:only-of-type {\n        vertical-align: middle;\n    }\n\n    .dataframe tbody tr th {\n        vertical-align: top;\n    }\n\n    .dataframe thead th {\n        text-align: right;\n    }\n</style>\n<table border=\"1\" class=\"dataframe\">\n  <thead>\n    <tr style=\"text-align: right;\">\n      <th></th>\n      <th>score</th>\n    </tr>\n    <tr>\n      <th>match</th>\n      <th></th>\n    </tr>\n  </thead>\n  <tbody>\n    <tr>\n      <th>0</th>\n      <td>36</td>\n    </tr>\n    <tr>\n      <th>1</th>\n      <td>64</td>\n    </tr>\n  </tbody>\n</table>\n</div>",
      "text/plain": "       score\nmatch       \n0         36\n1         64"
     },
     "execution_count": 59,
     "metadata": {},
     "output_type": "execute_result"
    }
   ],
   "source": [
    "without_name = df[['score', 'match']]\n",
    "without_name.groupby(['match']).count()"
   ]
  },
  {
   "cell_type": "code",
   "execution_count": 60,
   "metadata": {},
   "outputs": [
    {
     "data": {
      "text/html": "<div>\n<style scoped>\n    .dataframe tbody tr th:only-of-type {\n        vertical-align: middle;\n    }\n\n    .dataframe tbody tr th {\n        vertical-align: top;\n    }\n\n    .dataframe thead th {\n        text-align: right;\n    }\n</style>\n<table border=\"1\" class=\"dataframe\">\n  <thead>\n    <tr style=\"text-align: right;\">\n      <th></th>\n      <th>match</th>\n    </tr>\n    <tr>\n      <th>score</th>\n      <th></th>\n    </tr>\n  </thead>\n  <tbody>\n    <tr>\n      <th>1</th>\n      <td>14</td>\n    </tr>\n    <tr>\n      <th>2</th>\n      <td>30</td>\n    </tr>\n    <tr>\n      <th>3</th>\n      <td>56</td>\n    </tr>\n  </tbody>\n</table>\n</div>",
      "text/plain": "       match\nscore       \n1         14\n2         30\n3         56"
     },
     "execution_count": 60,
     "metadata": {},
     "output_type": "execute_result"
    }
   ],
   "source": [
    "without_name.groupby(['score']).count()"
   ]
  },
  {
   "cell_type": "code",
   "execution_count": 62,
   "metadata": {},
   "outputs": [
    {
     "data": {
      "text/html": "<div>\n<style scoped>\n    .dataframe tbody tr th:only-of-type {\n        vertical-align: middle;\n    }\n\n    .dataframe tbody tr th {\n        vertical-align: top;\n    }\n\n    .dataframe thead th {\n        text-align: right;\n    }\n</style>\n<table border=\"1\" class=\"dataframe\">\n  <thead>\n    <tr style=\"text-align: right;\">\n      <th></th>\n      <th>name</th>\n      <th>score</th>\n      <th>match</th>\n    </tr>\n  </thead>\n  <tbody>\n    <tr>\n      <th>0</th>\n      <td>fw1.jpg</td>\n      <td>3</td>\n      <td>1</td>\n    </tr>\n    <tr>\n      <th>5</th>\n      <td>fw13.jpg</td>\n      <td>3</td>\n      <td>1</td>\n    </tr>\n    <tr>\n      <th>6</th>\n      <td>fw14.jpg</td>\n      <td>2</td>\n      <td>1</td>\n    </tr>\n    <tr>\n      <th>7</th>\n      <td>fw15.jpg</td>\n      <td>3</td>\n      <td>1</td>\n    </tr>\n    <tr>\n      <th>8</th>\n      <td>fw16.jpg</td>\n      <td>3</td>\n      <td>1</td>\n    </tr>\n  </tbody>\n</table>\n</div>",
      "text/plain": "       name  score  match\n0   fw1.jpg      3      1\n5  fw13.jpg      3      1\n6  fw14.jpg      2      1\n7  fw15.jpg      3      1\n8  fw16.jpg      3      1"
     },
     "execution_count": 62,
     "metadata": {},
     "output_type": "execute_result"
    }
   ],
   "source": [
    "matched = df[df['match'] == 1]\n",
    "not_matched = df[df['match'] == 0]\n",
    "\n",
    "matched.head()"
   ]
  },
  {
   "cell_type": "code",
   "execution_count": 56,
   "metadata": {},
   "outputs": [],
   "source": [
    "X = df[['match']]\n",
    "y = df['score']"
   ]
  },
  {
   "cell_type": "code",
   "execution_count": 57,
   "metadata": {},
   "outputs": [],
   "source": [
    "X_train, X_test, y_train, y_test = train_test_split(X, y, test_size=0.25)"
   ]
  },
  {
   "cell_type": "code",
   "execution_count": 41,
   "metadata": {},
   "outputs": [
    {
     "data": {
      "text/plain": "LinearRegression(copy_X=True, fit_intercept=True, n_jobs=None, normalize=False)"
     },
     "execution_count": 41,
     "metadata": {},
     "output_type": "execute_result"
    }
   ],
   "source": [
    "model = LinearRegression()\n",
    "model.fit(X_train, y_train)"
   ]
  },
  {
   "cell_type": "code",
   "execution_count": 43,
   "metadata": {},
   "outputs": [
    {
     "name": "stdout",
     "output_type": "stream",
     "text": "For ... the prediction is [2.79591837]\n"
    }
   ],
   "source": [
    "observation = [[1]]\n",
    "prediction = model.predict(observation)\n",
    "print('For ... the prediction is %s' % prediction)"
   ]
  },
  {
   "cell_type": "code",
   "execution_count": 45,
   "metadata": {},
   "outputs": [
    {
     "name": "stdout",
     "output_type": "stream",
     "text": "[1.80769231 2.79591837 2.79591837 2.79591837 1.80769231]\n"
    }
   ],
   "source": [
    "predictions = model.predict(X_train)\n",
    "print(predictions[:5])"
   ]
  },
  {
   "cell_type": "code",
   "execution_count": 49,
   "metadata": {},
   "outputs": [
    {
     "name": "stdout",
     "output_type": "stream",
     "text": "R² score is -13.305476145294485\n"
    }
   ],
   "source": [
    "# accuracy = accuracy_score(X_train, predictions)\n",
    "# print('Accuracy is %s' % accuracy)\n",
    "\n",
    "# score = model.score(X, y)\n",
    "# print('Model score is %s' % score)\n",
    "\n",
    "r2 = r2_score(X_train, predictions)\n",
    "print('R² score is %s' % r2)\n",
    "\n",
    "# hamming = hamming_loss(X_train, predictions)\n",
    "# print('Hamming loss is %s' % hamming)"
   ]
  },
  {
   "cell_type": "code",
   "execution_count": 50,
   "metadata": {},
   "outputs": [],
   "source": [
    "# Saving the model\n",
    "import pickle\n",
    "\n",
    "with open('cnn_model.sav', 'wb') as m:\n",
    "    pickle.dump(model, m)"
   ]
  },
  {
   "cell_type": "code",
   "execution_count": null,
   "metadata": {},
   "outputs": [],
   "source": []
  }
 ]
}